{
 "cells": [
  {
   "cell_type": "markdown",
   "metadata": {},
   "source": [
    "# This is the Instabot part 2- An instagram bot which will scrape some important information for you!!!"
   ]
  },
  {
   "cell_type": "code",
   "execution_count": 1,
   "metadata": {},
   "outputs": [],
   "source": [
    "import matplotlib.pyplot as plt\n",
    "import pandas as pd\n",
    "import numpy as np\n",
    "from selenium import webdriver\n",
    "from selenium.webdriver.common.keys import Keys\n",
    "import time\n",
    "from selenium.common.exceptions import NoSuchElementException\n",
    "from selenium.common.exceptions import StaleElementReferenceException\n",
    "from selenium.common.exceptions import TimeoutException\n",
    "from selenium.webdriver.support.ui import WebDriverWait\n",
    "from selenium.webdriver.support import expected_conditions as EC\n",
    "from selenium.webdriver.common.by import By\n",
    "from selenium.webdriver.support.select import Select"
   ]
  },
  {
   "cell_type": "code",
   "execution_count": 2,
   "metadata": {},
   "outputs": [],
   "source": [
    "driver = webdriver.Chrome(executable_path = 'C:/Users/user/Downloads/Compressed/chromedriver') \n",
    "driver.get('https://www.instagram.com/')"
   ]
  },
  {
   "cell_type": "code",
   "execution_count": 3,
   "metadata": {},
   "outputs": [],
   "source": [
    "\n",
    "driver.maximize_window()\n",
    "waiter=WebDriverWait(driver, 10).until(EC.presence_of_element_located((By.CLASS_NAME, \"f0n8F \")))"
   ]
  },
  {
   "cell_type": "code",
   "execution_count": 4,
   "metadata": {},
   "outputs": [],
   "source": [
    "SAMPLE_USERNAME='ab_213654'\n",
    "SAMPLE_PASSWORD='thevibrator1'\n",
    "\n",
    "user = driver.find_element_by_name('username')\n",
    "user.send_keys(SAMPLE_USERNAME)\n",
    "password=driver.find_element_by_name('password')\n",
    "password.send_keys(SAMPLE_PASSWORD)"
   ]
  },
  {
   "cell_type": "code",
   "execution_count": 5,
   "metadata": {},
   "outputs": [],
   "source": [
    "password.submit()\n",
    "waiter=WebDriverWait(driver, 10).until(EC.presence_of_element_located((By.CLASS_NAME, \"XTCLo\")))"
   ]
  },
  {
   "cell_type": "markdown",
   "metadata": {},
   "source": [
    "# Q1.1 Re-Scraping the instagram handles which will appear on typing \"Food\" in the search bar."
   ]
  },
  {
   "cell_type": "code",
   "execution_count": 6,
   "metadata": {},
   "outputs": [],
   "source": [
    "WebDriverWait(driver, 10).until(EC.presence_of_element_located((By.XPATH,'//span[contains(@class, \"TqC_a\")]')))\n",
    "time.sleep(2)\n",
    "\n",
    "driver.find_element_by_xpath('//span[contains(@class, \"TqC_a\")]').click()\n",
    "driver.find_element_by_xpath('//input[contains(@class, \"XTCLo\")]').send_keys('food')\n",
    "\n",
    "WebDriverWait(driver, 10).until(EC.presence_of_element_located((By.XPATH, '//span[@class=\"Ap253\"]')))\n",
    "time.sleep(3)\n",
    "\n",
    "count=0\n",
    "users=[]\n",
    "# list of top 10 users will be stored in this list.\n",
    "for i in driver.find_elements_by_xpath('//span[@class=\"Ap253\"]'):\n",
    "    user_n=i.get_attribute('innerHTML')\n",
    "    if user_n[0]!='#' and count<10:\n",
    "        users.append(i.get_attribute('innerHTML'))\n",
    "        count+=1\n",
    "driver.find_element_by_xpath('//div[contains(@class, \"coreSpriteSearchClear\")]').click()\n"
   ]
  },
  {
   "cell_type": "code",
   "execution_count": 7,
   "metadata": {},
   "outputs": [],
   "source": [
    "#now i will iterate through all the usernames in this list and do whatever is asked in the question\n",
    "followers=[]\n",
    "#this list will contain the number of followers of 10 users.\n",
    "\n",
    "\n",
    "for user in users:\n",
    "    driver.find_element_by_xpath('//span[contains(@class, \"TqC_a\")]').click()\n",
    "    driver.find_element_by_xpath('//input[contains(@class, \"XTCLo\")]').send_keys(user)\n",
    "    WebDriverWait(driver, 10).until(EC.presence_of_element_located((By.XPATH, \"//span[@class='Ap253']\")))\n",
    "    driver.find_element_by_xpath('//span[@class=\"Ap253\"]').click()\n",
    "    WebDriverWait(driver, 10).until(EC.presence_of_element_located((By.XPATH, '//a[@class=\"-nal3 \"]/span[@class=\"g47SY \"]')))\n",
    "    followers.append(driver.find_element_by_xpath('//a[@class=\"-nal3 \"]/span[@class=\"g47SY \"]').get_attribute('innerHTML'))\n",
    "    time.sleep(3.2)"
   ]
  },
  {
   "cell_type": "code",
   "execution_count": 8,
   "metadata": {},
   "outputs": [
    {
     "data": {
      "text/plain": [
       "['foodtalkindia',\n",
       " 'dilsefoodie',\n",
       " 'foodiesince96',\n",
       " 'yourfoodlab',\n",
       " 'food_funk_fusion',\n",
       " 'food_lunatic',\n",
       " 'food',\n",
       " '_indian_food_lovers_',\n",
       " 'dwok_cafe',\n",
       " 'ruchika_asatkar']"
      ]
     },
     "execution_count": 8,
     "metadata": {},
     "output_type": "execute_result"
    }
   ],
   "source": [
    "users"
   ]
  },
  {
   "cell_type": "code",
   "execution_count": 9,
   "metadata": {},
   "outputs": [
    {
     "name": "stdout",
     "output_type": "stream",
     "text": [
      "food_funk_fusion\n",
      "foodiesince96\n",
      "_indian_food_lovers_\n",
      "food\n",
      "dilsefoodie\n"
     ]
    }
   ],
   "source": [
    "for i in range(len(followers)):\n",
    "    s = str(followers[i])\n",
    "    if 'm' in s:\n",
    "        followers[i]=float(s[:-1])*1000000\n",
    "    elif 'k' in s:\n",
    "        followers[i]=float(s[:-1])*1000\n",
    "for i in range(len(followers)):\n",
    "    s = str(followers[i])\n",
    "    if \",\" in s:\n",
    "        followers[i]=float(s.replace(\",\",\"\"))\n",
    "followers=np.array(followers, dtype='int')\n",
    "users=np.array(users)\n",
    "#sorted in ascending order\n",
    "users=users[np.argsort(followers)][::-1]\n",
    "followers=followers[np.argsort(followers)][::-1]\n",
    "#now printing top 5 \n",
    "top5=[]\n",
    "for x in range(5):\n",
    "    print(users[x])\n",
    "    top5.append(users[x])"
   ]
  },
  {
   "cell_type": "markdown",
   "metadata": {},
   "source": [
    "# Q1.2. Finding the number of posts these handles have done in the previous 3 days."
   ]
  },
  {
   "cell_type": "code",
   "execution_count": 10,
   "metadata": {},
   "outputs": [
    {
     "name": "stdout",
     "output_type": "stream",
     "text": [
      "food_funk_fusion have done 2 posts in past 3 days\n",
      "foodiesince96 have done 0 posts in past 3 days\n",
      "_indian_food_lovers_ have done 4 posts in past 3 days\n",
      "food have done 5 posts in past 3 days\n",
      "dilsefoodie have done 6 posts in past 3 days\n"
     ]
    }
   ],
   "source": [
    "#iterating through the list of top 5 users with maximum followers\n",
    "#and counting the number of posts they have done in past 3 days\n",
    "#WebDriverWait(driver, 10).until(EC.presence_of_element_located((By.XPATH, '//span[contains(@class, \"glyphsSpriteApp_instagram__outline__24__grey_9\")]')))\n",
    "#driver.find_element_by_xpath('//span[contains(@class, \"glyphsSpriteApp_instagram__outline__24__grey_9\")]').click()\n",
    "no_of_posts=[]\n",
    "for user in top5:\n",
    "    time.sleep(3)\n",
    "    print(user, end=' ')\n",
    "    driver.find_element_by_xpath('//span[contains(@class, \"TqC_a\")]').click()\n",
    "    driver.find_element_by_xpath('//input[contains(@class, \"XTCLo\")]').send_keys(user)\n",
    "    WebDriverWait(driver, 10).until(EC.presence_of_element_located((By.XPATH, \"//span[@class='Ap253']\")))\n",
    "    driver.find_element_by_xpath('//span[@class=\"Ap253\"]').click()\n",
    "    WebDriverWait(driver, 10).until(EC.presence_of_element_located((By.XPATH, '//div[@class=\"_9AhH0\"]')))\n",
    "    time.sleep(1)\n",
    "    count=0\n",
    "    for i in driver.find_elements_by_xpath('//div[contains(@class, \"Nnq7C\")]/div/a/div[1]'):\n",
    "        time.sleep(1)\n",
    "        i.click()\n",
    "        WebDriverWait(driver, 10).until(EC.presence_of_element_located((By.XPATH, '//time[contains(@class, \"Nzb55\")]')))\n",
    "        time_string=driver.find_element_by_xpath('//time[contains(@class, \"Nzb55\")]').get_attribute('innerHTML')\n",
    "        cross = driver.find_element_by_xpath('//div[@class=\"                    Igw0E     IwRSH      eGOV_         _4EzTm                                                                                  BI4qX            qJPeX            fm1AK   TxciK yiMZG\"]')\n",
    "\n",
    "        if time_string[-1] in ['h', 's']:\n",
    "            count+=1\n",
    "        elif time_string[-1]=='d' and int(time_string[:-1])<=3:\n",
    "            count+=1\n",
    "        else:\n",
    "            cross.click()\n",
    "            break\n",
    "        time.sleep(2)\n",
    "        cross.click()\n",
    "        time.sleep(1)\n",
    "    print(\"have done\", count, \"posts in past 3 days\")\n",
    "    no_of_posts.append(count)"
   ]
  },
  {
   "cell_type": "markdown",
   "metadata": {},
   "source": [
    "# Q1.3. Plotting Graph"
   ]
  },
  {
   "cell_type": "code",
   "execution_count": 11,
   "metadata": {},
   "outputs": [
    {
     "data": {
      "text/plain": [
       "<Figure size 432x288 with 0 Axes>"
      ]
     },
     "metadata": {},
     "output_type": "display_data"
    },
    {
     "data": {
      "image/png": "[encoded data removed]",
      "text/plain": [
       "<Figure size 720x504 with 1 Axes>"
      ]
     },
     "metadata": {
      "needs_background": "light"
     },
     "output_type": "display_data"
    },
    {
     "data": {
      "text/plain": [
       "<Figure size 432x288 with 0 Axes>"
      ]
     },
     "metadata": {},
     "output_type": "display_data"
    },
    {
     "data": {
      "image/png": "[encoded data removed]",
      "text/plain": [
       "<Figure size 720x504 with 1 Axes>"
      ]
     },
     "metadata": {
      "needs_background": "light"
     },
     "output_type": "display_data"
    }
   ],
   "source": [
    "#plotting a graph between those 10 users and the number of followers\n",
    "plt.subplots(0, 0)\n",
    "plt.figure(figsize=(10, 7))\n",
    "plt.bar(users, followers, color='rbycg')\n",
    "plt.xticks(rotation=45, size=12)\n",
    "plt.yticks(size=12)\n",
    "plt.title('Users versus numberof followers', size=12)\n",
    "plt.xlabel('users--->', size=12)\n",
    "plt.ylabel('followers--->', size=12)\n",
    "plt.grid()\n",
    "plt.show()\n",
    "\n",
    "#graph between top 5 users and the number of posts\n",
    "plt.subplots(0, 1)\n",
    "plt.figure(figsize=(10, 7))\n",
    "plt.bar(top5, no_of_posts, color='rbycg')\n",
    "plt.xticks(rotation=45, size=12)\n",
    "plt.yticks(size=12)\n",
    "plt.title('Users versus number of posts', size=12)\n",
    "plt.xlabel('users--->', size=12)\n",
    "plt.ylabel('number of posts--->', size=12)\n",
    "plt.grid()\n",
    "plt.show()"
   ]
  },
  {
   "cell_type": "markdown",
   "metadata": {},
   "source": [
    "# Q2.1. Opening the 5 handles I obtained in the last question, and scraping the content of the first 10 posts of each handle.\n"
   ]
  },
  {
   "cell_type": "code",
   "execution_count": 12,
   "metadata": {},
   "outputs": [],
   "source": [
    "#WebDriverWait(driver, 10).until(EC.presence_of_element_located((By.XPATH, '//span[contains(@class, \"glyphsSpriteApp_instagram__outline__24__grey_9\")]')))\n",
    "#driver.find_element_by_xpath('//span[contains(@class, \"glyphsSpriteApp_instagram__outline__24__grey_9\")]').click()\n",
    "content=[]\n",
    "hashtags=[]\n",
    "for user in top5:\n",
    "    time.sleep(3)\n",
    "    driver.find_element_by_xpath('//span[contains(@class, \"TqC_a\")]').click()\n",
    "    driver.find_element_by_xpath('//input[contains(@class, \"XTCLo\")]').send_keys(user)\n",
    "    WebDriverWait(driver, 10).until(EC.presence_of_element_located((By.XPATH, \"//span[@class='Ap253']\")))\n",
    "    driver.find_element_by_xpath('//span[@class=\"Ap253\"]').click()\n",
    "    WebDriverWait(driver, 10).until(EC.presence_of_element_located((By.XPATH, '//div[@class=\"_9AhH0\"]')))\n",
    "    time.sleep(1)\n",
    "    count=0\n",
    "    for i in driver.find_elements_by_xpath('//div[@class=\"_9AhH0\"]'):\n",
    "        i.click()\n",
    "        WebDriverWait(driver, 10).until(EC.presence_of_element_located((By.XPATH, '//div[contains(@class, \"C4VMK\")]')))\n",
    "        content.append(driver.find_element_by_xpath('//div[contains(@class, \"C4VMK\")]/span').get_attribute('textContent'))\n",
    "        for hashes in driver.find_elements_by_xpath('//div[contains(@class, \"C4VMK\")]/span/a'):\n",
    "            hashtags.append(hashes.get_attribute('innerHTML'))\n",
    "        count+=1\n",
    "        cross = driver.find_element_by_xpath('//div[@class=\"                    Igw0E     IwRSH      eGOV_         _4EzTm                                                                                  BI4qX            qJPeX            fm1AK   TxciK yiMZG\"]')\n",
    "        time.sleep(1)\n",
    "        if count>=10:\n",
    "            cross.click()\n",
    "            break\n",
    "        cross.click()\n",
    "        time.sleep(2)"
   ]
  },
  {
   "cell_type": "code",
   "execution_count": 13,
   "metadata": {},
   "outputs": [
    {
     "name": "stdout",
     "output_type": "stream",
     "text": [
      "Weather demands something hot and sizzling!🤤🙈The feeling when a hot and  spicy sizzler is enjoyed in a rainy day is outstanding & Blissful💝A  must try for all foodies 😋😋Turn on your post notifications🔔for more drooling updates🤤🤤Use #foodfunkfusion to get featured💕💕#sizzlers#chinesefood#fries #foodies#foodporn#food#foodphotography#streetfood##foodblogger#cooking#instafood#foodstagram#yummy#streetfood#instadaily#instamood#blogger#mumbaikar#foodgasm#italianfood#picoftheday#foodgasm#bloggers#foodstylist#moretocome#instadailyphoto#foodie#instalove#paneer#k#vocalforlocal\n",
      "-------------------------------------------------------------------------------------------------------------\n",
      "🎀 6𝒦 𝒻𝒶𝓂𝒾𝓁𝓎 🎀 🎉🎉Thankyou @who.made.this.yumm_for being a part of my celebration and making my 6k more special by sending these amazing Customized Chocolate  Cake and cute cupcakes(with my favourite  pizza and brownies  customized on it😮☺️Taste 👅 ⭐️⭐️⭐️⭐️⭐️/5 The cake is simply die for and it was way too yummy and mouthwatering at the same time so tempting as well  one could hardly resist having only a bite, it was simply “WOW”The softness of the cake, the crunch, everything was just perfect the taste, the flavour💞💞.Harshita and aditi from @who.made.this.yumm_ are  homebakers , recently started their bakery from home itself.They  make 100% Eggless Cakes , Cupcakes , Tarts , Chocolates and many more .It can be customized plus personalized as per individual taste and preferences ..Once you try it,  you wont be able to resist and nothing but order again, I am 100% sure about that💓💓In this pandemic situation she is taking all the safety and precautions while baking. ✅I’m sure you won’t be able to control yourself after seeing her profile and would end up ordering something or other for your loved ones.Check out their  profile @who.made.this.yumm_ 🥰 they makes customised cakes too so do it the way you want SO HURRY UP!GO PLACE YOUR ORDER NOW!!AND YES DON’T FORGET TO FOLLOW THEIR PAGE.@✔️✔️Thanks to all for being with me in my journey and giving tons of love and support ❤️Your honest opinions and feedbacks matters a lot!💓💓Keep supporting as always💞💞#6k#6kfollowers#6kfam#6kinstafollowers#milestones#foodfunkfusion#collaboration#cake#chocolate#foodbloggers #cakesofinstagram #dessert #foodporn#cakestagram#blog#cakelover#instamilestone#foodblog#blogger#mumbaibasedbaker#mumbaiindians#mumbaicakes #mumbaieats #mumbaifoodie #mumbaikar #cake #cakedecorating #cakesofinstagram #cakestagram #cakeart#gratitude #cakecakecake #cakesofig\n",
      "-------------------------------------------------------------------------------------------------------------\n",
      "No matter how much I eat, there is always room for dessert. Dessert doesn't go to the stomach. Dessert goes to the heart.\"💞💝In frame📸 Butterscotch pudding Aren't you drooling over this?Tag your partners in dessertarian🤤💓💞Turn on your post notifications🔔for more drooling updates🤤🤤Use #foodfunkfusion to get featured💕💕.#desserts#fridayvibes#sweettooth#foodies#foodporn#food#foodphotography#streetfood##foodblogger#cooking#instafood#foodstagram#yummy#streetfood#instadaily#instamood#blogger#mumbaikar#foodgasm#italianfood#picoftheday#foodgasm#bloggers#foodstylist#moretocome#instadailyphoto#foodie#instalove#dessertporn#chocolate#pudding\n",
      "-------------------------------------------------------------------------------------------------------------\n",
      "When breakfast starting with some South Indian cuisine..... 😋🤤❤😍 . . In frame📸 Jini DosaIn jini dosa a stuffing of mix veggies like cabbage, carrots, capsicum is semi-cooked in schezwan sauce, chilli sauce, tomato ketchup and a few Indian spice blends. Grated cheese is also added🤤💕The end result is a yummy, crispy, cheesy jini dosa with spicy, sour, sweet taste along with the crunchiness of the veggies. The taste of cheese is distinctly felt and goes very well with the vegetables🥰😋South indian food is  my all time favourite breakfast🤤😋Whats yours??.Turn on your post notifications🔔for more drooling updates🤤🤤Use #foodfunkfusion to get featured💕💕.#dosa#homemade#foodies#foodporn#food#foodphotography#streetfood##foodblogger#cooking#cheesy#instafood#foodstagram#yummy#streetfood#instadaily#instamood#blogger#mumbaikar#foodgasm#italianfood#picoftheday#foodgasm#bloggers#foodstylist#moretocome#instadailyphoto#foodie#instalove#brunch#breakfast#wednesdayb\n",
      "-------------------------------------------------------------------------------------------------------------\n",
      "🌺Sunday evenings  are better with delicious Cheesy paneer buns and latte☕🌺Whats your Sunday plans? Do let me know in the comment section💓💓.Follow👉@food_funk_fusion💓 Turn on your post notifications🔔for more drooling updates🤤🤤Use #foodfunkfusion to get featured💕💕.#sundayfunday#latte#homemade#foodies#foodporn#food#foodphotography#streetfood##foodblogger#cooking#cheesy#instafood#foodstagram#yummy#streetfood#instadaily#instamood#italianfood#blogger#mumbaikar#foodgasm#italianfood#picoftheday#foodgasm#bloggers#foodstylist#moretocome#weekend#instadailyphoto#foodie#instalove#brunch\n",
      "-------------------------------------------------------------------------------------------------------------\n",
      "☀️✨Monsoon is officially the season for frizzy hair. Can you relate with it? To tackle that, I've started using hairoil from @aashirvadayurveda 🌺Benefits of this hair oil🌿🌿1. 100% Natural2. Regains hair loss3. Promotes hair growth4. Prevents dandruff5. Natural conditioner6. Prevents scalp infections7. Ingredients include Kumari, draksha, bhringa and other natural ingredients🌺Packaging🌺Luxurious packaging with a very handy bottle and it is travel friendly.. It has a pressing nozel which can have open and close option which makes it very well convinient for travelling purpose..💓💓🌸HOW TO USE 🌸👉 Apply Aashirvad ayurveda oil before bedtime and massage scalp gently for 5 – 10 minutes.👉Rinse with mild/chemical-free shampoo the next morning.👉Use daily for the first 5 days and weekly twice thereafter.First impressions:1.Scalp was dandruff free and less itchy2.hairs werent freezy and felt smooth after the wash💓💓I couldn't really make out a lot of difference in the first use, but these 2 were the main things I experienced after the first use.So what are you waiting for??Go buy it now from @aashirvadayurveda or www.aashirvadayurveda.com⭐️This product is completely Swadeshi! Lets get Vocal for Local! ⭐️ P.s :- it’s my personal experience can be differ from person to person .#aashirvadayurveda#hairoil#pamperyourself#vocalforlocal#collab#productreviewer#instafamous#bloggersofinstagram#bloggersmail#lifestyleblogger#indianinfluencer#indianblogger#blog#mumbaikar#foodfunkfusion#productreview#influencer#instagood#instadaily#blogger#bloggerstyle#instamood#instafamous#bloggerinsta#picoftheday#lifestyleblogger#ayurvedic#indianbloggers#reviewer#moretocome\n",
      "-------------------------------------------------------------------------------------------------------------\n",
      "The incredible Spinach Corn Bruschetta.... you can't resist can't avoid it., if you are a Food lover😋\"Do tag your foodie friends😁😋Follow👉@food_funk_fusion for more drooling updates🤤🤤Tag or use #foodfunkfusion to get featured❣️❣️#bruschetta#cheese#homemade#foodies#foodporn#food#foodphotography#streetfood##foodblogge#cooking #instafood#foodstagram#yummy#streetfood#instadaily#instamood#quarantine#italianfood#bloggerstyle#foodblogfeed#mumbaikar#blog#foodgasm#delicious#picoftheday#foodgasm#bloggers#foodstylist#likeforlikes#followforfollowback#thingstodoinmumbai\n",
      "-------------------------------------------------------------------------------------------------------------\n",
      "As a food blogger frying  every second day has made my face FRIED!!!But Choosing a right Cooking oil has brought a Smile on my face...In frame 📸 Chilli Idli fry made with Organic Virgin Coconut oil by @plantonorganicI always believe our health depends on our food habits. One of the most important thing that plays a vital role is the oil we are using while cooking. Many times we don't pay attention to this thing and often complain about our health.I prefer no cholesterol oil for making foods as it is much more healthy optionRecently switched to @plantonorganic Organic virgin coconut oil and i am very much happy with this change.Fresh, aromatic and unrefined planton Virgin coconut oil , loaded with nutrients , is cold processed from fresh coconut milk of premium quality organic coconuts from Vechoor island, kuttanad.The Plantonorganic Virgin Coconut oil is👇🌴colourless🌴 free of sediment or rancid odour 🌴 has a natural fresh coconut scent.You can buy these organic products from @plantonorganic or their website  www.plantonorganic.com⭐️This product is completely Swadeshi! Lets get Vocal for Local! ⭐️.Follow👉@food_funk_fusion for more updates💕💕.#organic#healthylifestyle#healthyliving #reeltoreel #reelitin #anuvjain #reellife#reelitfeelit#coconut  #vegan #reelkarofeelkaro #reelkarofeelkaroindia #celebrateindia #myindiagram #feelitreelit #feelkaroreelkaro#foodfunkfusion #firstreel#reelsinstagram#reelitin#reelsindia#foodtalkindia#indianfoodblogger#foodblogger#blog#instafood#instadaily#bloggerstyle#mumbaikar#foodstagram\n",
      "-------------------------------------------------------------------------------------------------------------\n",
      "Recently I received 100% Organic Virgin Coconut Oil from @plantonorganic🍀🍁Fresh, aromatic and unrefined planton Virgin coconut oil , loaded with nutrients , is cold processed from fresh coconut milk of premium quality organic coconuts from Vechoor island, kuttanad. The cold process method ensures that all the natural goodness of fresh coconuts are retained.The Plantonorganic Virgin Coconut oil is👇🌴colourless🌴 free of sediment or rancid odour 🌴 has a natural fresh coconut scent.We can used coconut oil for:🌟Apply on Skin/Hair🌟Consume in Raw Form🌟 virgin coconut oil is great for cooking and a good substitute for other vegetable oils. 🌟Baby Care🌟Oil pulling for newborns as well as adultsBenefits of coconut oil are endless! 🥥✨I would like to share some information💕🍁Every morning indulge your self into oil pulling which is really a very good technique for your teeth as well as for your health.For this technique use 100% virgin Coconut Oil.Plantonorganic Focus on sustainable living and good health by delivering fresh and finest organic produce directly sourced from farmers’ cooperatives without compromising on quality and standards♻️♻️You can buy these organic products from @plantonorganic or their website  www.plantonorganic.com⭐️This product is completely Swadeshi! Lets get Vocal for Local! ⭐️.Follow👉@food_funk_fusion for more updates💕💕.#organic#plantonorganic#healthylifestyle#healthyliving##collab#reviewer#instafamous#bloggersofinstagram#bloggersmail#lifestyleblogger#indianinfluencer#indianblogger#blog#mumbaikar#productreview#influencer#instagood#instadaily#blogger#bloggerstyle#instamood#instafamous#bloggerinsta#picoftheday#weekend#productreviewer#bloggerlife#collaboration#influencerstyle#foodfunkfusion\n",
      "-------------------------------------------------------------------------------------------------------------\n",
      "जब na mile दिल tak jane ka रास्ता 🧡🧡Take her for a date with White Pasta 💚💚°°In frame📸 White Sauce Pasta°°All my troubles seem to melt away with just each bite! 🤤😍Does it have the same effect on you?°°Follow👉@food_funk_fusion for more drooling updates🤤🤤Tag or use #foodfunkfusion to get featured❣️❣️°°#pasta#homemade#foodies#foodporn#food#foodphotography#streetfood##foodblogger#cooking#cheesy#instafood#foodstagram#yummy#streetfood#instadaily#instamood#quarantine#italianfood#bloggerstyle#foodblogfeed#mumbaikar#blog#foodgasm#delicious#italianfood#picoftheday#foodgasm#bloggers#foodstylist#likeforlikes#followforfollowback#thingstodoinmumbai\n",
      "-------------------------------------------------------------------------------------------------------------\n",
      "Sushi 🍣🍣🍣#feelkaroreelkaro #feelitreelit #feelkarotoreelkaro #reel #sushi #dimsum #yum #yummy #foodiesince96\n",
      "-------------------------------------------------------------------------------------------------------------\n",
      "Indian food 🥘🥘🥘has my heart ♥️...Follow @foodiesince96 💫💫 for more delicious updatesYouTube - Mehak Dhawan Snapchat - Foodiesince96\n",
      "-------------------------------------------------------------------------------------------------------------\n",
      "Happy Friday 🌟.#thingstodoindelhi #eatingforinsta #instafoodie #india #chefmode #indianfood #eeeeeats #foodgasms #instafood #foodie #homecookedfood #foodstagram #eatlocal #eatfamous #indianfestival #foodbloggers #like4like #comment4comment #yummy #delhifoodbloggers #indianfoodbloggers #forkyeah #feastgram #hungry #followme #foodiesince96...Follow @foodiesince96 💫💫 for more delicious updatesYouTube - Mehak Dhawan Snapchat - Foodiesince96\n",
      "-------------------------------------------------------------------------------------------------------------\n",
      "The power of social media 🙏🙏🙏🙏🙏🙏 Video credits @youtubeswadofficial & @therawtextures 🙌🏻🙌🏻 Thankyou Gaurav bhaiya and Priyanshu bhaiya for sharing these stories 💜🙌🏻🙌🏻🙌🏻..@dawatehind is running a fund raiser please donate as much you can 💜.I just want to say one thing this couple at age of 80 are an example of sheer hard-work, dedication and will power. For someone who could not make ₹50 in a day to someone who has wide smile on his face is all because of each one of you ❤️❤️🙏🙏who not only contributed but also made this story reach to million of people, news channel, Celebes  and MLA Thankyou guys 🌟🌟..Last me ek cheez khena chahungi ghar se bhaar nikal kar dikhna bhout log hai jinko apki Help ki need hai. Be kind, be humble and help them in a least possible way like offering a bottle of water I am sure it will be a great for them and you will feel really good about it. On that note I really hope and pray to god 🙏 we can overcome poverty in our nation and help a lot of people who’s stories are unheard. .Bhagwan ji sabki help karenge 🙏🙏 ..Address - Block B, Shivalik Colony, Malviya Nagar, New Delhi, Delhi 110017 please maintain social distancing and west a mask  if YOU visit Thankyou 🙏..Huge Thankyou to everyone who came forward for all help Stay safe and take care 💜 #localforvocal #babakadhaba #baba #oldcouple #help #food #foodiesince96 #supportsmallbusiness #supportlocal #supportblackbusiness #help #kind #therawtextures\n",
      "-------------------------------------------------------------------------------------------------------------\n",
      "Tag someone who loves Red Velvet Cheesecake 😍😍😍😍😍❤️❤️❤️❤️...All locations are tagged on the picture 💛.#Foodtalkindia #delicious #delhigram #feedfeed #buzzfeast #foodies #frenchfood #indianfood #luxury #lifestyleblogger  #foodphotography #newdelhi #ilovefood #foodbeast #instafood #nomnom #hungry #foodstagram #eeeeeats #gurgaon #foodblogger #delhifoodie #foodoftheday #foodgasm #delhi_igers #foodiesince96....Follow @foodiesince96 💫💫 for more delicious updatesYouTube - Mehak Dhawan Snapchat - Foodiesince96\n",
      "-------------------------------------------------------------------------------------------------------------\n",
      "A slice of Happiness 🧡🧡.#Foodtalkindia #delicious #delhigram #feedfeed #buzzfeast #foodies #frenchfood #indianfood #luxury #lifestyleblogger  #foodphotography #newdelhi #ilovefood #foodbeast #instafood #nomnom #hungry #foodstagram #eeeeeats #gurgaon #foodblogger #delhifoodie #foodoftheday #foodgasm #delhi_igers #foodiesince96...Follow @foodiesince96 💫💫 for more delicious updatesYouTube - Mehak Dhawan Snapchat - Foodiesince96\n",
      "-------------------------------------------------------------------------------------------------------------\n",
      "Good morning fam ❤️💜 Mid week got me like 💁🏻‍♀️💁🏻‍♀️💁🏻‍♀️..#Foodtalkindia #delicious #delhigram #feedfeed #buzzfeast #foodies #mumbaifoodie #mumbaifood  #foodphotography #newdelhi #ilovefood #instafood #nomnom #hungry #foodstagram #eeeeeats #gurgaon #foodblogger #delhifoodie #foodoftheday #foodgasm #delhi_igers #foodiesince96..Follow @foodiesince96 💫💫 for more delicious updatesYouTube - Mehak Dhawan Snapchat - Foodiesince96\n",
      "-------------------------------------------------------------------------------------------------------------\n",
      "Happy National Noodles 🍝 Day..#Foodtalkindia #delicious #delhigram #feedfeed #buzzfeast #foodies #frenchfood #indianfood #foodpics #mumbaifoodie #mumbaifood  #foodphotography #newdelhi #ilovefood #foodbeast #instafood #nomnom #hungry #foodstagram #eeeeeats #gurgaon #foodblogger #delhifoodie #foodoftheday #foodgasm #delhi_igers #foodiesince96 #noodles #noodleslove.Follow @foodiesince96 💫💫 for more delicious updatesYouTube - Mehak Dhawan Snapchat - Foodiesince96\n",
      "-------------------------------------------------------------------------------------------------------------\n",
      "Tuesday special Malai Soya Chaap 😋😋😍😍#feelkaroreelkaro #feelitreelit #feelkarotoreelkaro #reel #soya #foodiesince96 #yum #yummy #tasty\n",
      "-------------------------------------------------------------------------------------------------------------\n",
      "Biding a Goodbye to the Summer special drinks 🍹 ( Lassi, shakes, coolers, cold coffee) & Special Ice cream sundae 🧡🧡😍😍 ..Can’t wait to make some great winter recipes for you all🧡🧡❤️😋😋😋 let me know in comments something special you want apart from Hot chocolate 🍫😋😋😍😋..#Foodtalkindia #delicious #delhigram #feedfeed #buzzfeast #foodies #mumbaifoodie #mumbaifood  #foodphotography #newdelhi #ilovefood #instafood #nomnom #hungry #foodstagram #eeeeeats #gurgaon #foodblogger #delhifoodie #foodoftheday #foodgasm #delhi_igers #foodiesince96.Follow @foodiesince96 💫💫 for more delicious updatesYouTube - Mehak Dhawan Snapchat - Foodiesince96\n",
      "-------------------------------------------------------------------------------------------------------------\n",
      "Chicken 65 Only for You 😋 ------------------------------------------------------------------------💙💚❤Food for life 😁💚💙❤------------------------------------------------------------------------💛Welcome to @_indian_food_lovers_ ❤🤤🤗🧡------------------------------------------------------------------------💜My Love Towards Food Has No End 😋🤤 🤩🖤------------------------------------------------------------------------💝#foodlovers #food #biryani #biryanilove #rice #southindianfoods #spicy #tasty #icecream #fishfry #yummy #muttonbiryani #friedrice #fastfood #tamilnadufoods #indianfoods #chennaifoods #foodporn #foodbloggers #foodblogging #food #chickenbiryani #veg #nonveg #love #deliciousfood #biryani #tandoori #grillchickens💝\n",
      "-------------------------------------------------------------------------------------------------------------\n",
      "Chicken Biryani With Natu kozhi Only for You 😋 ------------------------------------------------------------------------💙💚❤Food for life 😁💚💙❤------------------------------------------------------------------------💛Welcome to @_indian_food_lovers_ ❤🤤🤗🧡------------------------------------------------------------------------💜My Love Towards Food Has No End 😋🤤 🤩🖤------------------------------------------------------------------------💝#foodlovers #food #biryani #biryanilove #rice #southindianfoods #spicy #tasty #icecream #fishfry #yummy #muttonbiryani #friedrice #fastfood #tamilnadufoods #indianfoods #chennaifoods #foodporn #foodbloggers #foodblogging #food #chickenbiryani #veg #nonveg #love #deliciousfood #biryani #tandoori #grillchickens💝\n",
      "-------------------------------------------------------------------------------------------------------------\n",
      "Chicken Only for You 😋 ------------------------------------------------------------------------💙💚❤Food for life 😁💚💙❤------------------------------------------------------------------------💛Welcome to @_indian_food_lovers_ ❤🤤🤗🧡------------------------------------------------------------------------💜My Love Towards Food Has No End 😋🤤 🤩🖤------------------------------------------------------------------------💝#foodlovers #food #biryani #biryanilove #rice #southindianfoods #spicy #tasty #icecream #fishfry #yummy #muttonbiryani #friedrice #fastfood #tamilnadufoods #indianfoods #chennaifoods #foodporn #foodbloggers #foodblogging #food #chickenbiryani #veg #nonveg #love #deliciousfood #biryani #tandoori #grillchickens💝\n",
      "-------------------------------------------------------------------------------------------------------------\n",
      "Nattu Kozhi 😍Only for You 😋 ------------------------------------------------------------------------💙💚❤Food for life 😁💚💙❤------------------------------------------------------------------------💛Welcome to @_indian_food_lovers_ ❤🤤🤗🧡------------------------------------------------------------------------💜My Love Towards Food Has No End 😋🤤 🤩🖤------------------------------------------------------------------------💝#foodlovers #food #biryani #biryanilove #rice #southindianfoods #spicy #tasty #icecream #fishfry #yummy #muttonbiryani #friedrice #fastfood #tamilnadufoods #indianfoods #chennaifoods #foodporn #foodbloggers #foodblogging #food #chickenbiryani #veg #nonveg #love #deliciousfood #biryani #tandoori #grillchickens💝\n",
      "-------------------------------------------------------------------------------------------------------------\n",
      "Biryani with Natukozhi gravy Only for You 😋 ------------------------------------------------------------------------💙💚❤Food for life 😁💚💙❤------------------------------------------------------------------------💛Welcome to @_indian_food_lovers_ ❤🤤🤗🧡------------------------------------------------------------------------💜My Love Towards Food Has No End 😋🤤 🤩🖤------------------------------------------------------------------------💝#foodlovers #food #biryani #biryanilove #rice #southindianfoods #spicy #tasty #icecream #fishfry #yummy #muttonbiryani #friedrice #fastfood #tamilnadufoods #indianfoods #chennaifoods #foodporn #foodbloggers #foodblogging #food #chickenbiryani #veg #nonveg #love #deliciousfood #biryani #tandoori #grillchickens💝\n",
      "-------------------------------------------------------------------------------------------------------------\n",
      "Biryani Only for You 😋 ------------------------------------------------------------------------💙Credits : @love_struck_official💚------------------------------------------------------------------------💛Welcome to @_indian_food_lovers_ ❤🤤🤗🧡------------------------------------------------------------------------💜My Love Towards Food Has No End 😋🤤 🤩🖤------------------------------------------------------------------------💝#foodlovers #food #biryani #biryanilove #rice #southindianfoods #spicy #tasty #icecream #fishfry #yummy #muttonbiryani #friedrice #fastfood #tamilnadufoods #indianfoods #chennaifoods #foodporn #foodbloggers #foodblogging #food #chickenbiryani #veg #nonveg #love #deliciousfood #biryani #tandoori #grillchickens💝\n",
      "-------------------------------------------------------------------------------------------------------------\n",
      "Fried Chicken Only for You 😋 ------------------------------------------------------------------------💙💚❤Food for life 😁💚💙❤------------------------------------------------------------------------💛Welcome to @_indian_food_lovers_ ❤🤤🤗🧡------------------------------------------------------------------------💜My Love Towards Food Has No End 😋🤤 🤩🖤------------------------------------------------------------------------💝#foodlovers #food #biryani #biryanilove #rice #southindianfoods #spicy #tasty #icecream #fishfry #yummy #muttonbiryani #friedrice #fastfood #tamilnadufoods #indianfoods #chennaifoods #foodporn #foodbloggers #foodblogging #food #chickenbiryani #veg #nonveg #love #deliciousfood #biryani #tandoori #grillchickens💝\n",
      "-------------------------------------------------------------------------------------------------------------\n",
      "Syrian Beef Only for You 😋 ------------------------------------------------------------------------💙💚❤Food for life 😁💚💙❤------------------------------------------------------------------------💛Welcome to @_indian_food_lovers_ ❤🤤🤗🧡------------------------------------------------------------------------💜My Love Towards Food Has No End 😋🤤 🤩🖤------------------------------------------------------------------------💝#foodlovers #food #biryani #biryanilove #rice #southindianfoods #spicy #tasty #icecream #fishfry #yummy #muttonbiryani #friedrice #fastfood #tamilnadufoods #indianfoods #chennaifoods #foodporn #foodbloggers #foodblogging #food #chickenbiryani #veg #nonveg #love #deliciousfood #biryani #tandoori #grillchickens💝\n",
      "-------------------------------------------------------------------------------------------------------------\n",
      "Chicken 65 Only for You 😋 ------------------------------------------------------------------------💙💚❤Food for life 😁💚💙❤------------------------------------------------------------------------💛Welcome to @_indian_food_lovers_ ❤🤤🤗🧡------------------------------------------------------------------------💜My Love Towards Food Has No End 😋🤤 🤩🖤------------------------------------------------------------------------💝#foodlovers #food #biryani #biryanilove #rice #southindianfoods #spicy #tasty #icecream #fishfry #yummy #muttonbiryani #friedrice #fastfood #tamilnadufoods #indianfoods #chennaifoods #foodporn #foodbloggers #foodblogging #food #chickenbiryani #veg #nonveg #love #deliciousfood #biryani #tandoori #grillchickens💝\n",
      "-------------------------------------------------------------------------------------------------------------\n",
      "Classic Chicken Mandi Only for You 😋 ------------------------------------------------------------------------💙Credits : @biryanihousedelhi💚------------------------------------------------------------------------💛Welcome to @_indian_food_lovers_ ❤🤤🤗🧡------------------------------------------------------------------------💜My Love Towards Food Has No End 😋🤤 🤩🖤------------------------------------------------------------------------💝#foodlovers #food #biryani #biryanilove #rice #southindianfoods #spicy #tasty #icecream #fishfry #yummy #muttonbiryani #friedrice #fastfood #tamilnadufoods #indianfoods #chennaifoods #foodporn #foodbloggers #foodblogging #food #chickenbiryani #veg #nonveg #love #deliciousfood #biryani #tandoori #grillchickens💝\n",
      "-------------------------------------------------------------------------------------------------------------\n",
      "Happy World Egg Day! 🍳#WorldEggDayA simple scramble or a sunny side up or shirred eggs! What’s your go to, tell us below in the comments section?\n",
      "-------------------------------------------------------------------------------------------------------------\n",
      "Can’t wait to eat here\n",
      "-------------------------------------------------------------------------------------------------------------\n",
      "The weekend calls for scrumptious and freshly prepared meals at your doorstep! And we have the perfect place for you @asianfarm_shack ! From stir fry to curry to hearty meal combinations, @asianfarm_shack got your Asian food cravings covered. .They represent flavours from two Asian geographies - the streets of Bangkok & the Chinese Sichuan region. Place your orders now!.For orders, call or Curbside pickup: +91 124- 4361444 / ‎‎‎4371444Website: www.asianfarm-shack.com\n",
      "-------------------------------------------------------------------------------------------------------------\n",
      "#TalkRecipe These easy no-bake cookies are loaded with goodness and they’re even healthy. 🍪🤤Old-fashioned oats, cocoa, and the surprise addition of coconut make these classic no-bake cookies the very best. Give it a try! 💯Recipe courtesy - @allrecipes INGREDIENTS 3 cups quick cooking oats1 cup sweetened flaked coconut2 cups white sugar½ cup unsweetened cocoa powder½ cup milk½ cup margarineDIRECTIONS- Step 1Line a baking sheet with waxed paper.- Step 2Mix oats and coconut in a large bowl until thoroughly combined.-  Step 3Stir sugar, cocoa powder, milk, and margarine together in a saucepan over medium heat until the mixture is smooth. Bring to a boil and cook for 2 minutes, stirring constantly. Pour over the oats and coconut and quickly mix to coat. Drop by tablespoon onto prepared baking sheet; let cookies cool and harden. Store in an airtight container.\n",
      "-------------------------------------------------------------------------------------------------------------\n",
      "We have found the most rich and flavourful Haleem you can think of! The Laal Haleem House’s Haleem is a slow cook of mutton in desi ghee, with lentil, oats, and a potli of whole spices, finished with a broth, it’s stuff you don’t want to miss out on. .They do meal boxes for 2 and 4 that include rumali rotis, okra thins, and condiments (fresh coriander, chopped green chillies, julienned ginger, fried onion & lemon). A very hearty and wholesome meal you need to get your hands on right away! .Takeaway Kitchen: B-2/4, Vasant Vihar, New Delhi. .DM them on whatsapp to place your orders: 9717615865.Website: https://haleemhouse.com/\n",
      "-------------------------------------------------------------------------------------------------------------\n",
      "This is a tough one. What’s your pick? 🤩\n",
      "-------------------------------------------------------------------------------------------------------------\n",
      "@arakucoffeein Taste Test@eeshaankas, @gitanasingh, @anjali__batra and @shuchirsuri joined us to pick their favourite ARAKU Coffee in their choice of brewing method. Watch the whole action here. #ARAKUTasteTest.#arakucoffee #specialitycoffee #tastetest #makeyourpick #coffee #coffeelover #coffeelove #coffeelife #coffeeconnoisseurs #coffeeofinstagram\n",
      "-------------------------------------------------------------------------------------------------------------\n",
      "We love all ARAKU coffees equally, so we got some Good Samaritans to help us do a quick #ARAKUTasteTest.@eeshaankas , @gitanasingh , @anjali__batra and @shuchirsuri joined us to pick their favourite ARAKU Coffee in their choice of brewing method.Spoiler: @arakucoffeein got 10/10 😉\n",
      "-------------------------------------------------------------------------------------------------------------\n",
      "Seeing, they say, is believing! 👀Many of us wonder why our home cooking doesn’t look as perfect, symmetrical, and shiny as food seen in adverts. We have unveiled publicists' intelligent tricks in making fake food look so appetising...💯\n",
      "-------------------------------------------------------------------------------------------------------------\n",
      "It's World Coffee Day and we have the perfect destination for you to get your coffee fix! Coffee noob or expert, we've got answers for you all with Sixteen Grams Coffee! ☕️Taking pride in being India's first specialty coffee marketplace, their mission is simple: bringing quality coffee to people, and they're acing it! Matching your unique taste preferences with coffees from the country’s best coffee roasters - each has a story of its own to tell that goes ‘brew-tifully’ with an aromatic cuppa!Ever wondered what ’THE’ coffee for you tastes like? The answer’s just a quick quiz away. Head to @sixteengramscoffee now and celebrate the day with your perfect match! ☕️\n",
      "-------------------------------------------------------------------------------------------------------------\n",
      "With my Instagram community's love, mera pet aur dil dono bhar jaate hain! Issi khushi mein yeh dance ho jaye! #IGLoveRunsDeep\n",
      "-------------------------------------------------------------------------------------------------------------\n",
      "Came Here Direct From Vrindavan To Cover This Dhaba I think the requirement is fulfilled by Delhi People.Will Cover This Place After Few Days. Let's Focus On Other Needy People I Am Sure Sabhi Ke Ghar Ke Pass Aisa Ek Baba Ka Dhaba Zarur Hoga Jisse Hum Sab Ki Zarurat Hai. #VocalForLocal #dilsefoodie\n",
      "-------------------------------------------------------------------------------------------------------------\n",
      "New Series Alert : One Day Trip With Dilsefoodie.#dilsefoodie #reelkarofeelkaro\n",
      "-------------------------------------------------------------------------------------------------------------\n",
      "51000 Prize In 51minutesHai Koi Jo Kha Sakta Hai 10 Karachi Kulcha And Lahori Lassi ?Tag That Friend Who Can Eat#dilsefoodie\n",
      "-------------------------------------------------------------------------------------------------------------\n",
      "Kali Mirch Lemon Chicken Recipe By Karan DuaVery Easy To Make Follow Step By Step Recipe.#dilsefoodie\n",
      "-------------------------------------------------------------------------------------------------------------\n",
      "Butter Chicken Wheat Momos At BROWN SUGAR, East Patel Nagar #dilsefoodie #reelkarofeelkaro\n",
      "-------------------------------------------------------------------------------------------------------------\n",
      "Automatic Unlimited GolGappe In Rs 50 OnlyAt Agra Chaat Hub, JanakpuriTag Golgappa Lovers #dilsefoodie\n",
      "-------------------------------------------------------------------------------------------------------------\n",
      "Frying Chicken By HandsKundan Restaurant, Anand ParbatThis Video Was Recorded Before Corona Pandemic. Have You Been To This Place ?#dilsefoodie\n",
      "-------------------------------------------------------------------------------------------------------------\n",
      "#FullOnTaiyariThe @samsungindia #FullOn Festival is incomplete without its fair share of food and drinks! 🍕🍟🍸🍹Watch @kennethseb figure out his festival snacks with the help of @dilsefoodie today. Hope you can digest what you are about to see! Catch it on our IGTV! 😋🍔🍴🌯🍽️🍹 📱You can buy the full-on Fab Samsung Galaxy F41 at #TheBigblllionDays on #Flipkart📲\n",
      "-------------------------------------------------------------------------------------------------------------\n",
      "Unlimited Karachi Kulcha In Rs 199 OnlyUnlimited Karachi Kulcha In Just Rs. 199 At Sardar Ji Family Restaurant, Rajouri Garden Chowk With Karan DuaContest Alert : Win Rs. 51000 In 51 MinutesTag Karo Bhukkad Dosto ko #dilsefoodie\n",
      "-------------------------------------------------------------------------------------------------------------\n"
     ]
    }
   ],
   "source": [
    "for i in content:\n",
    "    print(i)\n",
    "    print(\"-------------------------------------------------------------------------------------------------------------\")\n"
   ]
  },
  {
   "cell_type": "markdown",
   "metadata": {},
   "source": [
    "# Q2.2. Preparing a list of all words used in all the scraped posts and calculating the frequency of each word.\n"
   ]
  },
  {
   "cell_type": "code",
   "execution_count": 14,
   "metadata": {},
   "outputs": [],
   "source": [
    "hashtags=np.array(hashtags)\n",
    "hash_tags=[]#it will contain all the actual hashtags, where all the usernames are filtered from the hashtags array\n",
    "for i in hashtags:\n",
    "    if not i[0]=='@' and i!='':\n",
    "        hash_tags.append(i)"
   ]
  },
  {
   "cell_type": "code",
   "execution_count": 15,
   "metadata": {},
   "outputs": [
    {
     "data": {
      "text/plain": [
       "{'#foodfunkfusion': 10,\n",
       " '#sizzlers': 1,\n",
       " '#chinesefood': 1,\n",
       " '#fries': 1,\n",
       " '#foodies': 12,\n",
       " '#foodporn': 17,\n",
       " '#food': 27,\n",
       " '#foodphotography': 12,\n",
       " '#streetfood': 12,\n",
       " '#foodblogger': 12,\n",
       " '#cooking': 6,\n",
       " '#instafood': 14,\n",
       " '#foodstagram': 14,\n",
       " '#yummy': 19,\n",
       " '#instadaily': 9,\n",
       " '#instamood': 8,\n",
       " '#blogger': 7,\n",
       " '#mumbaikar': 10,\n",
       " '#foodgasm': 18,\n",
       " '#italianfood': 8,\n",
       " '#picoftheday': 8,\n",
       " '#bloggers': 6,\n",
       " '#foodstylist': 6,\n",
       " '#moretocome': 5,\n",
       " '#instadailyphoto': 4,\n",
       " '#foodie': 5,\n",
       " '#instalove': 4,\n",
       " '#paneer': 1,\n",
       " '#k': 1,\n",
       " '#vocalforlocal': 2,\n",
       " '#6k': 1,\n",
       " '#6kfollowers': 1,\n",
       " '#6kfam': 1,\n",
       " '#6kinstafollowers': 1,\n",
       " '#milestones': 1,\n",
       " '#collaboration': 2,\n",
       " '#cake': 2,\n",
       " '#chocolate': 2,\n",
       " '#foodbloggers': 12,\n",
       " '#cakesofinstagram': 2,\n",
       " '#dessert': 1,\n",
       " '#cakestagram': 2,\n",
       " '#blog': 6,\n",
       " '#cakelover': 1,\n",
       " '#instamilestone': 1,\n",
       " '#foodblog': 1,\n",
       " '#mumbaibasedbaker': 1,\n",
       " '#mumbaiindians': 1,\n",
       " '#mumbaicakes': 1,\n",
       " '#mumbaieats': 1,\n",
       " '#mumbaifoodie': 4,\n",
       " '#cakedecorating': 1,\n",
       " '#cakeart': 1,\n",
       " '#gratitude': 1,\n",
       " '#cakecakecake': 1,\n",
       " '#cakesofig': 1,\n",
       " '#desserts': 1,\n",
       " '#fridayvibes': 1,\n",
       " '#sweettooth': 1,\n",
       " '#dessertporn': 1,\n",
       " '#pudding': 1,\n",
       " '#dosa': 1,\n",
       " '#homemade': 4,\n",
       " '#cheesy': 3,\n",
       " '#brunch': 2,\n",
       " '#breakfast': 1,\n",
       " '#wednesdayb': 1,\n",
       " '#sundayfunday': 1,\n",
       " '#latte': 1,\n",
       " '#weekend': 2,\n",
       " '#aashirvadayurveda': 1,\n",
       " '#hairoil': 1,\n",
       " '#pamperyourself': 1,\n",
       " '#collab': 2,\n",
       " '#productreviewer': 2,\n",
       " '#instafamous': 4,\n",
       " '#bloggersofinstagram': 2,\n",
       " '#bloggersmail': 2,\n",
       " '#lifestyleblogger': 6,\n",
       " '#indianinfluencer': 2,\n",
       " '#indianblogger': 2,\n",
       " '#productreview': 2,\n",
       " '#influencer': 2,\n",
       " '#instagood': 2,\n",
       " '#bloggerstyle': 5,\n",
       " '#bloggerinsta': 2,\n",
       " '#ayurvedic': 1,\n",
       " '#indianbloggers': 1,\n",
       " '#reviewer': 2,\n",
       " '#bruschetta': 1,\n",
       " '#cheese': 1,\n",
       " '#foodblogge': 1,\n",
       " '#quarantine': 2,\n",
       " '#foodblogfeed': 2,\n",
       " '#delicious': 8,\n",
       " '#likeforlikes': 2,\n",
       " '#followforfollowback': 2,\n",
       " '#thingstodoinmumbai': 2,\n",
       " '#organic': 2,\n",
       " '#healthylifestyle': 2,\n",
       " '#healthyliving': 2,\n",
       " '#reeltoreel': 1,\n",
       " '#reelitin': 2,\n",
       " '#anuvjain': 1,\n",
       " '#reellife': 1,\n",
       " '#reelitfeelit': 1,\n",
       " '#coconut': 1,\n",
       " '#vegan': 1,\n",
       " '#reelkarofeelkaro': 3,\n",
       " '#reelkarofeelkaroindia': 1,\n",
       " '#celebrateindia': 1,\n",
       " '#myindiagram': 1,\n",
       " '#feelitreelit': 3,\n",
       " '#feelkaroreelkaro': 3,\n",
       " '#firstreel': 1,\n",
       " '#reelsinstagram': 1,\n",
       " '#reelsindia': 1,\n",
       " '#foodtalkindia': 1,\n",
       " '#indianfoodblogger': 1,\n",
       " '#plantonorganic': 1,\n",
       " '#bloggerlife': 1,\n",
       " '#influencerstyle': 1,\n",
       " '#pasta': 1,\n",
       " '#feelkarotoreelkaro': 2,\n",
       " '#reel': 2,\n",
       " '#sushi': 1,\n",
       " '#dimsum': 1,\n",
       " '#yum': 2,\n",
       " '#foodiesince96': 10,\n",
       " '#Foodtalkindia': 6,\n",
       " '#delhigram': 6,\n",
       " '#feedfeed': 6,\n",
       " '#buzzfeast': 6,\n",
       " '#frenchfood': 4,\n",
       " '#indianfood': 5,\n",
       " '#luxury': 3,\n",
       " '#newdelhi': 6,\n",
       " '#ilovefood': 6,\n",
       " '#foodbeast': 4,\n",
       " '#nomnom': 6,\n",
       " '#hungry': 7,\n",
       " '#eeeeeats': 7,\n",
       " '#gurgaon': 6,\n",
       " '#delhifoodie': 6,\n",
       " '#foodoftheday': 6,\n",
       " '#delhi_igers': 6,\n",
       " '#thingstodoindelhi': 1,\n",
       " '#eatingforinsta': 1,\n",
       " '#instafoodie': 1,\n",
       " '#india': 1,\n",
       " '#chefmode': 1,\n",
       " '#foodgasms': 1,\n",
       " '#homecookedfood': 1,\n",
       " '#eatlocal': 1,\n",
       " '#eatfamous': 1,\n",
       " '#indianfestival': 1,\n",
       " '#like4like': 1,\n",
       " '#comment4comment': 1,\n",
       " '#delhifoodbloggers': 1,\n",
       " '#indianfoodbloggers': 1,\n",
       " '#forkyeah': 1,\n",
       " '#feastgram': 1,\n",
       " '#followme': 1,\n",
       " '#localforvocal': 1,\n",
       " '#babakadhaba': 1,\n",
       " '#baba': 1,\n",
       " '#oldcouple': 1,\n",
       " '#help': 2,\n",
       " '#supportsmallbusiness': 1,\n",
       " '#supportlocal': 1,\n",
       " '#supportblackbusiness': 1,\n",
       " '#kind': 1,\n",
       " '#therawtextures': 1,\n",
       " '#mumbaifood': 3,\n",
       " '#foodpics': 1,\n",
       " '#noodles': 1,\n",
       " '#noodleslove': 1,\n",
       " '#soya': 1,\n",
       " '#tasty': 11,\n",
       " '#foodlovers': 10,\n",
       " '#biryani': 20,\n",
       " '#biryanilove': 10,\n",
       " '#rice': 10,\n",
       " '#southindianfoods': 10,\n",
       " '#spicy': 10,\n",
       " '#icecream': 10,\n",
       " '#fishfry': 10,\n",
       " '#muttonbiryani': 10,\n",
       " '#friedrice': 10,\n",
       " '#fastfood': 10,\n",
       " '#tamilnadufoods': 10,\n",
       " '#indianfoods': 10,\n",
       " '#chennaifoods': 10,\n",
       " '#foodblogging': 10,\n",
       " '#chickenbiryani': 10,\n",
       " '#veg': 10,\n",
       " '#nonveg': 10,\n",
       " '#love': 10,\n",
       " '#deliciousfood': 10,\n",
       " '#tandoori': 10,\n",
       " '#grillchickens': 10,\n",
       " '#போடுதகிடதகிட': 1,\n",
       " '#WorldEggDay': 1,\n",
       " '#TalkRecipe': 1,\n",
       " '#ARAKUTasteTest': 2,\n",
       " '#arakucoffee': 2,\n",
       " '#specialitycoffee': 2,\n",
       " '#tastetest': 2,\n",
       " '#makeyourpick': 2,\n",
       " '#coffee': 2,\n",
       " '#coffeelover': 2,\n",
       " '#coffeelove': 2,\n",
       " '#coffeelife': 2,\n",
       " '#coffeeconnoisseurs': 2,\n",
       " '#coffeeofinstagram': 2,\n",
       " '#IGLoveRunsDeep': 1,\n",
       " '#VocalForLocal': 1,\n",
       " '#dilsefoodie': 8,\n",
       " '#Love_Guru': 1,\n",
       " '#FullOnTaiyari': 1,\n",
       " '#FullOn': 1,\n",
       " '#TheBigblllionDays': 1,\n",
       " '#Flipkart📲': 1}"
      ]
     },
     "execution_count": 15,
     "metadata": {},
     "output_type": "execute_result"
    }
   ],
   "source": [
    "dic=dict()#this will store the frequencies of all the hashtags\n",
    "for i in hash_tags:\n",
    "    if i in dic.keys():\n",
    "        dic[i]+=1\n",
    "    else:\n",
    "        dic[i]=1\n",
    "dic"
   ]
  },
  {
   "cell_type": "markdown",
   "metadata": {},
   "source": [
    "# Q2.3. Creating a csv file with two columns : the word and its frequency\n"
   ]
  },
  {
   "cell_type": "code",
   "execution_count": 16,
   "metadata": {},
   "outputs": [],
   "source": [
    "hash_word=np.array([i[1:] for i in dic.keys()])\n",
    "frequency=np.array([i for i in dic.values()])\n",
    "df=pd.DataFrame()\n",
    "df['Words']=hash_word\n",
    "df['Frequency']=frequency\n",
    "df.to_csv('Hashtag_Frequencies.csv')\n",
    "#hence the file is saved in the working directory"
   ]
  },
  {
   "cell_type": "markdown",
   "metadata": {},
   "source": [
    "# Q2.4. Finding the hashtags that were most popular among these bloggers\n"
   ]
  },
  {
   "cell_type": "code",
   "execution_count": 17,
   "metadata": {},
   "outputs": [
    {
     "name": "stdout",
     "output_type": "stream",
     "text": [
      "food -----> 27 times\n",
      "biryani -----> 20 times\n",
      "yummy -----> 19 times\n",
      "foodgasm -----> 18 times\n",
      "foodporn -----> 17 times\n",
      "instafood -----> 14 times\n",
      "foodstagram -----> 14 times\n",
      "streetfood -----> 12 times\n",
      "foodblogger -----> 12 times\n",
      "foodphotography -----> 12 times\n",
      "foodies -----> 12 times\n",
      "foodbloggers -----> 12 times\n",
      "tasty -----> 11 times\n",
      "fastfood -----> 10 times\n",
      "tamilnadufoods -----> 10 times\n",
      "friedrice -----> 10 times\n",
      "muttonbiryani -----> 10 times\n",
      "fishfry -----> 10 times\n",
      "foodfunkfusion -----> 10 times\n",
      "biryanilove -----> 10 times\n",
      "icecream -----> 10 times\n",
      "spicy -----> 10 times\n",
      "southindianfoods -----> 10 times\n",
      "rice -----> 10 times\n",
      "chennaifoods -----> 10 times\n",
      "foodlovers -----> 10 times\n",
      "mumbaikar -----> 10 times\n",
      "indianfoods -----> 10 times\n",
      "foodblogging -----> 10 times\n",
      "foodiesince96 -----> 10 times\n",
      "veg -----> 10 times\n",
      "nonveg -----> 10 times\n",
      "love -----> 10 times\n",
      "deliciousfood -----> 10 times\n",
      "tandoori -----> 10 times\n",
      "grillchickens -----> 10 times\n",
      "chickenbiryani -----> 10 times\n",
      "instadaily -----> 9 times\n",
      "delicious -----> 8 times\n",
      "dilsefoodie -----> 8 times\n",
      "instamood -----> 8 times\n",
      "picoftheday -----> 8 times\n",
      "italianfood -----> 8 times\n",
      "blogger -----> 7 times\n",
      "eeeeeats -----> 7 times\n",
      "hungry -----> 7 times\n",
      "blog -----> 6 times\n",
      "lifestyleblogger -----> 6 times\n",
      "foodoftheday -----> 6 times\n",
      "foodstylist -----> 6 times\n",
      "Foodtalkindia -----> 6 times\n",
      "delhifoodie -----> 6 times\n",
      "delhigram -----> 6 times\n",
      "buzzfeast -----> 6 times\n",
      "newdelhi -----> 6 times\n",
      "ilovefood -----> 6 times\n",
      "nomnom -----> 6 times\n",
      "gurgaon -----> 6 times\n",
      "feedfeed -----> 6 times\n",
      "delhi_igers -----> 6 times\n",
      "bloggers -----> 6 times\n",
      "cooking -----> 6 times\n",
      "indianfood -----> 5 times\n",
      "moretocome -----> 5 times\n",
      "bloggerstyle -----> 5 times\n",
      "foodie -----> 5 times\n",
      "mumbaifoodie -----> 4 times\n",
      "frenchfood -----> 4 times\n",
      "instalove -----> 4 times\n",
      "foodbeast -----> 4 times\n",
      "homemade -----> 4 times\n",
      "instadailyphoto -----> 4 times\n",
      "instafamous -----> 4 times\n",
      "feelitreelit -----> 3 times\n",
      "reelkarofeelkaro -----> 3 times\n",
      "mumbaifood -----> 3 times\n",
      "luxury -----> 3 times\n",
      "cheesy -----> 3 times\n",
      "feelkaroreelkaro -----> 3 times\n",
      "instagood -----> 2 times\n",
      "brunch -----> 2 times\n",
      "collab -----> 2 times\n",
      "productreviewer -----> 2 times\n",
      "reelitin -----> 2 times\n",
      "healthyliving -----> 2 times\n",
      "healthylifestyle -----> 2 times\n",
      "organic -----> 2 times\n",
      "thingstodoinmumbai -----> 2 times\n",
      "followforfollowback -----> 2 times\n",
      "bloggerinsta -----> 2 times\n",
      "bloggersmail -----> 2 times\n",
      "indianinfluencer -----> 2 times\n",
      "likeforlikes -----> 2 times\n",
      "foodblogfeed -----> 2 times\n",
      "indianblogger -----> 2 times\n",
      "quarantine -----> 2 times\n",
      "reviewer -----> 2 times\n",
      "productreview -----> 2 times\n",
      "influencer -----> 2 times\n",
      "bloggersofinstagram -----> 2 times\n",
      "weekend -----> 2 times\n",
      "coffee -----> 2 times\n",
      "specialitycoffee -----> 2 times\n",
      "ARAKUTasteTest -----> 2 times\n",
      "tastetest -----> 2 times\n",
      "makeyourpick -----> 2 times\n",
      "help -----> 2 times\n",
      "coffeelover -----> 2 times\n",
      "coffeelove -----> 2 times\n",
      "coffeelife -----> 2 times\n",
      "coffeeconnoisseurs -----> 2 times\n",
      "coffeeofinstagram -----> 2 times\n",
      "chocolate -----> 2 times\n",
      "yum -----> 2 times\n",
      "cake -----> 2 times\n",
      "collaboration -----> 2 times\n",
      "arakucoffee -----> 2 times\n",
      "cakesofinstagram -----> 2 times\n",
      "reel -----> 2 times\n",
      "feelkarotoreelkaro -----> 2 times\n",
      "vocalforlocal -----> 2 times\n",
      "cakestagram -----> 2 times\n",
      "6kinstafollowers -----> 1 times\n",
      "sizzlers -----> 1 times\n",
      "6kfam -----> 1 times\n",
      "6kfollowers -----> 1 times\n",
      "6k -----> 1 times\n",
      "k -----> 1 times\n",
      "sundayfunday -----> 1 times\n",
      "paneer -----> 1 times\n",
      "breakfast -----> 1 times\n",
      "wednesdayb -----> 1 times\n",
      "milestones -----> 1 times\n",
      "fries -----> 1 times\n",
      "dosa -----> 1 times\n",
      "pudding -----> 1 times\n",
      "instamilestone -----> 1 times\n",
      "foodblog -----> 1 times\n",
      "mumbaibasedbaker -----> 1 times\n",
      "mumbaiindians -----> 1 times\n",
      "mumbaieats -----> 1 times\n",
      "dessert -----> 1 times\n",
      "cakedecorating -----> 1 times\n",
      "cakeart -----> 1 times\n",
      "gratitude -----> 1 times\n",
      "cakecakecake -----> 1 times\n",
      "cakesofig -----> 1 times\n",
      "desserts -----> 1 times\n",
      "fridayvibes -----> 1 times\n",
      "sweettooth -----> 1 times\n",
      "cakelover -----> 1 times\n",
      "chinesefood -----> 1 times\n",
      "dessertporn -----> 1 times\n",
      "mumbaicakes -----> 1 times\n",
      "Flipkart📲 -----> 1 times\n",
      "latte -----> 1 times\n",
      "forkyeah -----> 1 times\n",
      "oldcouple -----> 1 times\n",
      "baba -----> 1 times\n",
      "babakadhaba -----> 1 times\n",
      "localforvocal -----> 1 times\n",
      "followme -----> 1 times\n",
      "feastgram -----> 1 times\n",
      "indianfoodbloggers -----> 1 times\n",
      "aashirvadayurveda -----> 1 times\n",
      "delhifoodbloggers -----> 1 times\n",
      "comment4comment -----> 1 times\n",
      "like4like -----> 1 times\n",
      "indianfestival -----> 1 times\n",
      "eatfamous -----> 1 times\n",
      "eatlocal -----> 1 times\n",
      "supportsmallbusiness -----> 1 times\n",
      "supportlocal -----> 1 times\n",
      "supportblackbusiness -----> 1 times\n",
      "kind -----> 1 times\n",
      "therawtextures -----> 1 times\n",
      "foodpics -----> 1 times\n",
      "noodles -----> 1 times\n",
      "noodleslove -----> 1 times\n",
      "soya -----> 1 times\n",
      "போடுதகிடதகிட -----> 1 times\n",
      "WorldEggDay -----> 1 times\n",
      "TalkRecipe -----> 1 times\n",
      "IGLoveRunsDeep -----> 1 times\n",
      "VocalForLocal -----> 1 times\n",
      "Love_Guru -----> 1 times\n",
      "FullOnTaiyari -----> 1 times\n",
      "FullOn -----> 1 times\n",
      "homecookedfood -----> 1 times\n",
      "foodgasms -----> 1 times\n",
      "chefmode -----> 1 times\n",
      "celebrateindia -----> 1 times\n",
      "hairoil -----> 1 times\n",
      "pamperyourself -----> 1 times\n",
      "ayurvedic -----> 1 times\n",
      "indianbloggers -----> 1 times\n",
      "bruschetta -----> 1 times\n",
      "cheese -----> 1 times\n",
      "foodblogge -----> 1 times\n",
      "reeltoreel -----> 1 times\n",
      "anuvjain -----> 1 times\n",
      "reellife -----> 1 times\n",
      "reelitfeelit -----> 1 times\n",
      "coconut -----> 1 times\n",
      "vegan -----> 1 times\n",
      "reelkarofeelkaroindia -----> 1 times\n",
      "TheBigblllionDays -----> 1 times\n",
      "india -----> 1 times\n",
      "firstreel -----> 1 times\n",
      "reelsinstagram -----> 1 times\n",
      "reelsindia -----> 1 times\n",
      "foodtalkindia -----> 1 times\n",
      "indianfoodblogger -----> 1 times\n",
      "plantonorganic -----> 1 times\n",
      "bloggerlife -----> 1 times\n",
      "influencerstyle -----> 1 times\n",
      "pasta -----> 1 times\n",
      "sushi -----> 1 times\n",
      "dimsum -----> 1 times\n",
      "thingstodoindelhi -----> 1 times\n",
      "eatingforinsta -----> 1 times\n",
      "instafoodie -----> 1 times\n",
      "myindiagram -----> 1 times\n"
     ]
    }
   ],
   "source": [
    "hash_word=hash_word[np.argsort(frequency)][::-1]\n",
    "frequency=frequency[np.argsort(frequency)][::-1]\n",
    "for i in range(len(hash_word)):\n",
    "    print(hash_word[i], \"----->\", frequency[i], \"times\")\n"
   ]
  },
  {
   "cell_type": "markdown",
   "metadata": {},
   "source": [
    "# Q2.5. Plotting a Pie Chart of the top 5 hashtags obtained and the number of times they were used by these bloggers in the scraped posts.\n"
   ]
  },
  {
   "cell_type": "code",
   "execution_count": 18,
   "metadata": {},
   "outputs": [
    {
     "data": {
      "image/png": "[encoded data removed]",
      "text/plain": [
       "<Figure size 720x720 with 1 Axes>"
      ]
     },
     "metadata": {},
     "output_type": "display_data"
    }
   ],
   "source": [
    "x=hash_word[:5]\n",
    "y=frequency[:5]\n",
    "plt.figure(figsize=(10, 10))\n",
    "plt.pie(y, labels=x, autopct='%.2f%%', shadow=True, labeldistance=1.2)\n",
    "plt.title('Pie Chart of the top 5 hashtags ')\n",
    "plt.show()"
   ]
  },
  {
   "cell_type": "markdown",
   "metadata": {},
   "source": [
    "# Q3.1. Finding out the likes of the top 10 posts of the 5 handles obtained earlier.\n"
   ]
  },
  {
   "cell_type": "code",
   "execution_count": 19,
   "metadata": {},
   "outputs": [
    {
     "name": "stdout",
     "output_type": "stream",
     "text": [
      "food_funk_fusion----> total 5774.0 likes on 10 latest posts\n",
      "foodiesince96----> total 36040.0 likes on 10 latest posts\n",
      "_indian_food_lovers_----> total 171743.0 likes on 10 latest posts\n",
      "food----> total 18696.0 likes on 10 latest posts\n",
      "dilsefoodie----> total 627576.0 likes on 10 latest posts\n"
     ]
    }
   ],
   "source": [
    "like=[]\n",
    "for user in top5:\n",
    "    print(user, end=\"----> \")\n",
    "    time.sleep(3)\n",
    "    driver.find_element_by_xpath('//span[contains(@class, \"TqC_a\")]').click()\n",
    "    driver.find_element_by_xpath('//input[contains(@class, \"XTCLo\")]').send_keys(user)\n",
    "    WebDriverWait(driver, 10).until(EC.presence_of_element_located((By.XPATH, \"//span[@class='Ap253']\")))\n",
    "    driver.find_element_by_xpath('//span[@class=\"Ap253\"]').click()\n",
    "    WebDriverWait(driver, 10).until(EC.presence_of_element_located((By.XPATH, '//div[@class=\"_9AhH0\"]')))\n",
    "    time.sleep(1)\n",
    "    count=0\n",
    "    likes=0\n",
    "    for i in driver.find_elements_by_xpath('//div[@class=\"_9AhH0\"]'):\n",
    "        i.click()\n",
    "        #clicks on the post of the user being iterated.\n",
    "        try:\n",
    "            WebDriverWait(driver, 5).until(EC.presence_of_element_located((By.XPATH, '//div[@class=\"Nm9Fw\"]/button[contains(@class, \"sqdOP \")]/span')))\n",
    "            l=driver.find_element_by_xpath('//div[@class=\"Nm9Fw\"]/button[contains(@class, \"sqdOP \")]/span').get_attribute('innerHTML')     \n",
    "            s=str(l)\n",
    "            if 'm' in s:\n",
    "                s=float(s[:-1])*1000000\n",
    "            elif 'k' in s:\n",
    "                s=float(s[:-1])*1000\n",
    "            elif \",\" in s:\n",
    "                s=float(s.replace(\",\",\"\"))\n",
    "            else:\n",
    "                s =float(s)\n",
    "            likes+=s\n",
    "        except TimeoutException:\n",
    "            WebDriverWait(driver, 5).until(EC.presence_of_element_located((By.XPATH, '//div[contains(@class, \"HbPOm\")]/span[contains(@class, \"vcOH2\")]/span')))\n",
    "            likes+=int(\"\".join(driver.find_element_by_xpath('//div[contains(@class, \"HbPOm\")]/span[contains(@class, \"vcOH2\")]/span').get_attribute('innerHTML').split(',')))\n",
    "        count+=1\n",
    "        cross = driver.find_element_by_xpath('//div[@class=\"                    Igw0E     IwRSH      eGOV_         _4EzTm                                                                                  BI4qX            qJPeX            fm1AK   TxciK yiMZG\"]')\n",
    "\n",
    "        if count>=10:\n",
    "            cross.click()\n",
    "            break\n",
    "        cross.click()\n",
    "        time.sleep(1)\n",
    "    print(\"total\", likes, \"likes on 10 latest posts\")\n",
    "    like.append(likes)"
   ]
  },
  {
   "cell_type": "code",
   "execution_count": 20,
   "metadata": {},
   "outputs": [
    {
     "data": {
      "text/plain": [
       "array(['food_funk_fusion', 'foodiesince96', '_indian_food_lovers_',\n",
       "       'food', 'dilsefoodie'], dtype='<U20')"
      ]
     },
     "execution_count": 20,
     "metadata": {},
     "output_type": "execute_result"
    }
   ],
   "source": [
    "top5=np.array(top5)\n",
    "top5"
   ]
  },
  {
   "cell_type": "code",
   "execution_count": 21,
   "metadata": {},
   "outputs": [
    {
     "data": {
      "text/plain": [
       "array([  5774.,  36040., 171743.,  18696., 627576.])"
      ]
     },
     "execution_count": 21,
     "metadata": {},
     "output_type": "execute_result"
    }
   ],
   "source": [
    "like=np.array(like)\n",
    "#likes on the top 10 posts for those 5 users\n",
    "like"
   ]
  },
  {
   "cell_type": "code",
   "execution_count": 22,
   "metadata": {},
   "outputs": [
    {
     "data": {
      "text/plain": [
       "array([1400000,  619000,  302000,  302000,  302000])"
      ]
     },
     "execution_count": 22,
     "metadata": {},
     "output_type": "execute_result"
    }
   ],
   "source": [
    "followers[0:5]"
   ]
  },
  {
   "cell_type": "markdown",
   "metadata": {},
   "source": [
    "# Q3.2. Calculating the average likes for a handle."
   ]
  },
  {
   "cell_type": "code",
   "execution_count": 23,
   "metadata": {},
   "outputs": [
    {
     "data": {
      "text/plain": [
       "array([  577.4,  3604. , 17174.3,  1869.6, 62757.6])"
      ]
     },
     "execution_count": 23,
     "metadata": {},
     "output_type": "execute_result"
    }
   ],
   "source": [
    "average_likes=like/10\n",
    "average_likes"
   ]
  },
  {
   "cell_type": "markdown",
   "metadata": {},
   "source": [
    "# Q3.3. Dividing the average likes obtained from the number of followers of the handle to get the average followers:like ratio of each handle\n"
   ]
  },
  {
   "cell_type": "code",
   "execution_count": 24,
   "metadata": {},
   "outputs": [
    {
     "data": {
      "text/plain": [
       "array([2424.66227918,  171.7536071 ,   17.58441392,  161.53187848,\n",
       "          4.81216618])"
      ]
     },
     "execution_count": 24,
     "metadata": {},
     "output_type": "execute_result"
    }
   ],
   "source": [
    "ratio=followers[0:5]/average_likes\n",
    "ratio"
   ]
  },
  {
   "cell_type": "markdown",
   "metadata": {},
   "source": [
    "# Q3.4. Creating a bar graph to depict the above obtained information.\n"
   ]
  },
  {
   "cell_type": "code",
   "execution_count": 25,
   "metadata": {},
   "outputs": [
    {
     "data": {
      "image/png": "[encoded data removed]",
      "text/plain": [
       "<Figure size 720x504 with 1 Axes>"
      ]
     },
     "metadata": {
      "needs_background": "light"
     },
     "output_type": "display_data"
    }
   ],
   "source": [
    "plt.figure(figsize=(10,7))\n",
    "plt.bar(top5, ratio, color='orange')\n",
    "plt.xticks(rotation=45, size=12)\n",
    "plt.xlabel('Users---->', size=12)\n",
    "plt.ylabel('Average followers to likes ratio---->', size=12)\n",
    "plt.yticks(size=12)\n",
    "plt.grid()\n",
    "plt.show()"
   ]
  },
  {
   "cell_type": "code",
   "execution_count": null,
   "metadata": {},
   "outputs": [],
   "source": []
  },
  {
   "cell_type": "code",
   "execution_count": null,
   "metadata": {},
   "outputs": [],
   "source": []
  },
  {
   "cell_type": "code",
   "execution_count": null,
   "metadata": {},
   "outputs": [],
   "source": []
  },
  {
   "cell_type": "code",
   "execution_count": null,
   "metadata": {},
   "outputs": [],
   "source": []
  },
  {
   "cell_type": "code",
   "execution_count": null,
   "metadata": {},
   "outputs": [],
   "source": []
  },
  {
   "cell_type": "code",
   "execution_count": null,
   "metadata": {},
   "outputs": [],
   "source": []
  }
 ],
 "metadata": {
  "kernelspec": {
   "display_name": "Python 3",
   "language": "python",
   "name": "python3"
  },
  "language_info": {
   "codemirror_mode": {
    "name": "ipython",
    "version": 3
   },
   "file_extension": ".py",
   "mimetype": "text/x-python",
   "name": "python",
   "nbconvert_exporter": "python",
   "pygments_lexer": "ipython3",
   "version": "3.7.7"
  }
 },
 "nbformat": 4,
 "nbformat_minor": 4
}
